{
 "cells": [
  {
   "cell_type": "markdown",
   "id": "54471718",
   "metadata": {},
   "source": [
    "# Dungeon Adventure Game - Instructions\n",
    "\n",
    "In this exercise, you will build a text-based dungeon adventure game in Python.\n",
    "\n",
    "You will apply everything you've learned so far, including:\n",
    "- Variables\n",
    "- Operators\n",
    "- Lists\n",
    "- Dictionaries\n",
    "- Loops\n",
    "- Conditionals\n",
    "- The `random` module\n",
    "\n",
    "Follow the prompts in each section to build your game step by step. By the end, you will have a fully functioning game where the player can explore rooms, search for treasure, avoid traps, and see their final score based on the treasures collected.\n",
    "\n",
    "Complete each section before moving on to the next.\n"
   ]
  },
  {
   "cell_type": "code",
   "execution_count": null,
   "id": "eee84ad5",
   "metadata": {},
   "outputs": [],
   "source": [
    "import random\n",
    "# Step 1: Player Setup\n",
    "# Prompt the player for their name.\n",
    "# Set health to 10.\n",
    "# Create an empty list to store their inventory.\n",
    "print(\"🎮 Welcome to the Dungeon Adventure! 🏰💀💎\")\n",
    "print(\"Prepare for traps, treasures, and thrilling encounters! ⚔️🧙\\n\")\n",
    "player_name = input(\"What is your name, brave adventurer? : \")\n",
    "print(f\"\\nWelcome, {player_name}! ⚔️ Your journey begins now...\\nPrepare for traps, treasures, and dark mysteries lurking in the dungeon. 🔦🐉\\n\")\n",
    "player_health = 10\n",
    "player_inventory = []"
   ]
  },
  {
   "cell_type": "code",
   "execution_count": 7,
   "id": "3a0aecec",
   "metadata": {},
   "outputs": [],
   "source": [
    "# Step 2: Treasure Dictionary\n",
    "# Create a dictionary of treasures where the keys are treasure names\n",
    "# and the values are the gold value of each treasure.\n",
    "treasures = {\"gold_coins\": 100,\n",
    "    \"silver_chalice\": 50,\n",
    "    \"ruby_necklace\": 200,\n",
    "    \"ancient_scroll\": 25,\n",
    "    \"gem-encrusted_sword\": 500,\n",
    "    \"magic_ring\": 300}\n"
   ]
  },
  {
   "cell_type": "code",
   "execution_count": null,
   "id": "1a24ddaf",
   "metadata": {},
   "outputs": [],
   "source": [
    "# Step 3: Game Loop - Moving through 5 rooms\n",
    "# Use a for loop to represent rooms 1 to 5.\n",
    "# In each room, display the current room number and the options:\n",
    "# 1. Search for treasure\n",
    "# 2. Move to next room\n",
    "# 3. Check health and inventory\n",
    "# 4. Quit the game\n",
    "# Make sure to handle each option appropriately.\n",
    "for room in range(1, 6):\n",
    "    print(f\"\\n🔹🔹🔹---Room🚪{room} ---🔹🔹🔹\")\n",
    "    print(\"1. Search for treasure  🔍\")\n",
    "    print(\"2. Move to next room  🚶\")\n",
    "    print(\"3. Check health and inventory  🧾\")\n",
    "    print(\"4. Quit the game ❌\")\n",
    "\n",
    "    choice = input(\"Choose an option (1-4): \")\n",
    "\n",
    "    if choice == \"1\":\n",
    "# Step 4: Implement treasure search\n",
    "# If the player chooses to search, randomly decide if they find treasure or a trap.\n",
    "# If treasure, randomly pick from the treasure dictionary and add to inventory.\n",
    "# If trap, deduct 2 health points and print a message.\n",
    "        found_treasure = random.choice([True, False])\n",
    "        if found_treasure:\n",
    "            treasure = random.choice(list(treasures.keys()))\n",
    "            player_inventory.append(treasure)\n",
    "            print(f\"You found a {treasure.replace('_', ' ')} worth {treasures[treasure]} gold! 💰\")\n",
    "        else:\n",
    "            player_health -= 2\n",
    "            print(\"💥It's a trap! You lost 2 health.❤️‍🩹\")\n",
    "    elif choice == \"2\":\n",
    "        print(\"➡️ ➡️ ➡️ You move to the next room.\")\n",
    "    elif choice == \"3\":\n",
    "        print(f\"❤️ Health: {player_health}\")\n",
    "        print(\"🎒 Inventory:\", [item.replace('_', ' ') for item in player_inventory] if player_inventory else \"Empty\")\n",
    "    elif choice == \"4\":\n",
    "        print(\"You decided to exit the dungeon early.\")\n",
    "        break\n",
    "    else:\n",
    "        print(\"❗Invalid option. Please choose 1-4.\")\n",
    "\n",
    "# Step 5: Check health\n",
    "# If health drops to 0 or below, print a Game Over message and break the loop.\n",
    "    if player_health <= 0:\n",
    "        print(\"Your health has dropped to zero. Game Over! 🔚\")\n",
    "        break\n"
   ]
  },
  {
   "cell_type": "code",
   "execution_count": null,
   "id": "39cc69d2",
   "metadata": {},
   "outputs": [],
   "source": [
    "# Step 6: End of Game Summary\n",
    "# If the player quits or finishes all rooms, calculate the total value of the collected treasures.\n",
    "# Loop through the inventory and sum the gold value using the treasure dictionary.\n",
    "# Print the final health, inventory, and total treasure value.\n",
    "print(\"\\n📜📜--- Game Summary ---📜📜\")\n",
    "print(f\"Final Health ❤️: {player_health}\")\n",
    "print(\"Final Inventory 🎒:\", [item.replace('_', ' ') for item in player_inventory] if player_inventory else \"Empty\")\n",
    "total_value = sum(treasures[item] for item in player_inventory)\n",
    "print(f\"Total Treasure Value 💰: {total_value} gold\")\n",
    "print(f\"\\nThanks for playing, {player_name}! 🌟 May your next quest be even greater! 🌟 \")\n",
    "5\n",
    "\n"
   ]
  }
 ],
 "metadata": {
  "kernelspec": {
   "display_name": "Python 3",
   "language": "python",
   "name": "python3"
  },
  "language_info": {
   "codemirror_mode": {
    "name": "ipython",
    "version": 3
   },
   "file_extension": ".py",
   "mimetype": "text/x-python",
   "name": "python",
   "nbconvert_exporter": "python",
   "pygments_lexer": "ipython3",
   "version": "3.12.10"
  }
 },
 "nbformat": 4,
 "nbformat_minor": 5
}
